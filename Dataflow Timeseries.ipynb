{
  "nbformat": 4,
  "nbformat_minor": 0,
  "metadata": {
    "colab": {
      "cell_execution_strategy": "setup",
      "provenance": [],
      "name": "Dataflow Timeseries"
    },
    "kernelspec": {
      "name": "python3",
      "display_name": "Python 3"
    },
    "language_info": {
      "name": "python"
    }
  },
  "cells": [
    {
      "cell_type": "code",
      "source": [
        "import time\n",
        "import random\n",
        "import json\n",
        "from datetime import datetime\n",
        "from google.cloud import pubsub_v1\n",
        "\n",
        "project_id = 'vadimzaripov-477-2022062208552'\n",
        "topic_id = 'timeseries-pos'\n",
        "\n",
        "publisher = pubsub_v1.PublisherClient()\n",
        "topic_path = publisher.topic_path(project_id, topic_id)\n",
        "\n",
        "# Generate a single sample data record\n",
        "def generate_record():\n",
        "    store_id = random.randint(1, 10)\n",
        "    timestamp = datetime.utcnow().isoformat() #UTC datetime\n",
        "    pos_number = random.randint(1, 5)\n",
        "    product_id = random.randint(1, 20)\n",
        "    value = round(random.uniform(10.0, 100.0), 2)\n",
        "    return {\n",
        "        'store_id': store_id,\n",
        "        'timestamp': timestamp,\n",
        "        'pos_number': pos_number,\n",
        "        'product_id': product_id,\n",
        "        'value': value\n",
        "    }\n",
        "\n",
        "# Publish a batch of 50 messages to Pub/Sub\n",
        "def publish_batch_to_pubsub():\n",
        "    messages = [generate_record() for _ in range(50)]\n",
        "    for data in messages:\n",
        "        data_str = json.dumps(data)  # Serialize to JSON\n",
        "        #print(f\"Sending JSON to Pub/Sub: {data_str}\")\n",
        "        data_bytes = data_str.encode('utf-8')\n",
        "        future = publisher.publish(topic_path, data_bytes)\n",
        "        #print(f\"Published message ID {future.result()}\")\n",
        "\n",
        "# Run the function every minute\n",
        "def run_periodically():\n",
        "\n",
        "    total_sent = 0\n",
        "    while True:\n",
        "        publish_batch_to_pubsub()\n",
        "        print(\"Batch of 50 messages sent. Waiting for a minute...\")\n",
        "        total_sent += 50\n",
        "        print(f\"Total sent in this session is {total_sent}\")\n",
        "        time.sleep(60)  # Wait for a minute\n",
        "\n",
        "# Run the function\n",
        "try:\n",
        "    run_periodically()\n",
        "except KeyboardInterrupt:\n",
        "    print(\"Stopped by user\")\n"
      ],
      "metadata": {
        "id": "gwh9P1B0h5bv"
      },
      "execution_count": null,
      "outputs": []
    }
  ]
}